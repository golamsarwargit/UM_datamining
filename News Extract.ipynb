{
 "cells": [
  {
   "cell_type": "code",
   "execution_count": 3,
   "metadata": {},
   "outputs": [],
   "source": [
    "#!pip install feedparser"
   ]
  },
  {
   "cell_type": "code",
   "execution_count": 4,
   "metadata": {},
   "outputs": [],
   "source": [
    "import feedparser\n",
    "from bs4 import BeautifulSoup\n",
    "import pandas as pd\n",
    "\n",
    "def extract():\n",
    "    feed=feedparser.parse(\"http://www.thestar.com.my/rss/business/business-news/\")\n",
    "    data=[]\n",
    "    for i in feed['items']:\n",
    "        title=i.title\n",
    "        description=i.description\n",
    "        link=i.link\n",
    "        pubDate=i.published\n",
    "\n",
    "        data.append({'title':title,'description':description,'link':link,'pubdate':pubDate})\n",
    "    staronline=pd.DataFrame(data,columns=['title','description','link','pubdate'])\n",
    "    return staronline"
   ]
  },
  {
   "cell_type": "code",
   "execution_count": 5,
   "metadata": {},
   "outputs": [],
   "source": [
    "feed = extract()"
   ]
  },
  {
   "cell_type": "code",
   "execution_count": 8,
   "metadata": {},
   "outputs": [],
   "source": [
    "feed.to_csv('news.csv',index=False)"
   ]
  },
  {
   "cell_type": "code",
   "execution_count": null,
   "metadata": {},
   "outputs": [],
   "source": [
    "from datetime import datetime, timedelta\n",
    "import time\n",
    "while 1:\n",
    "    extract()\n",
    "\n",
    "    dt = datetime.now() + timedelta(hours=24)\n",
    "    dt = dt.replace(minute=30)\n",
    "\n",
    "    while datetime.now() < dt:\n",
    "        time.sleep(1)"
   ]
  }
 ],
 "metadata": {
  "kernelspec": {
   "display_name": "Python 3",
   "language": "python",
   "name": "python3"
  },
  "language_info": {
   "codemirror_mode": {
    "name": "ipython",
    "version": 3
   },
   "file_extension": ".py",
   "mimetype": "text/x-python",
   "name": "python",
   "nbconvert_exporter": "python",
   "pygments_lexer": "ipython3",
   "version": "3.6.4"
  }
 },
 "nbformat": 4,
 "nbformat_minor": 2
}
